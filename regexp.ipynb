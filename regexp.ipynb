{
 "cells": [
  {
   "cell_type": "markdown",
   "metadata": {},
   "source": [
    "# 정규 표현식\n",
    "텍스트를 처리하고 싶을 때, 특정한 방식으로 처리해주는 것을 의미한다. \n",
    "re, search, list comprehension을 익히는 데에 집중하도록 하자."
   ]
  },
  {
   "cell_type": "code",
   "execution_count": 4,
   "metadata": {},
   "outputs": [],
   "source": [
    "import nltk\n",
    "import re"
   ]
  },
  {
   "cell_type": "code",
   "execution_count": 3,
   "metadata": {
    "scrolled": true
   },
   "outputs": [
    {
     "name": "stdout",
     "output_type": "stream",
     "text": [
      "showing info https://raw.githubusercontent.com/nltk/nltk_data/gh-pages/index.xml\n"
     ]
    },
    {
     "data": {
      "text/plain": [
       "True"
      ]
     },
     "execution_count": 3,
     "metadata": {},
     "output_type": "execute_result"
    }
   ],
   "source": [
    "nltk.download()"
   ]
  },
  {
   "cell_type": "markdown",
   "metadata": {},
   "source": [
    "regular expression에 관한 문법이다. \n",
    "설명이기 때문에 ' 3개 사이에 넣어서 모두 # 을 넣은 것과 같은 효과. "
   ]
  },
  {
   "cell_type": "code",
   "execution_count": null,
   "metadata": {},
   "outputs": [],
   "source": [
    "'''\n",
    "Basic Regular Expression Meta-Characters, Including Wildcards, Ranges and Closures\n",
    ".\t        Wildcard, matches any character\n",
    "^abc\t    Matches some pattern abc at the start of a string\n",
    "abc$\t    Matches some pattern abc at the end of a string\n",
    "[abc]\t    Matches one of a set of characters []안의 것은 항.상. 1개만 표시 된다.\n",
    "[^abc]      Matches anything but a set of characters\n",
    "[A-Z0-9]\tMatches one of a range of characters\n",
    "ed|ing|s\tMatches one of the specified strings (disjunction)\n",
    "*\t        Zero or more of previous item, e.g. a*, [a-z]* (also known as Kleene Closure)\n",
    "+\t        One or more of previous item, e.g. a+, [a-z]+\n",
    "?\t        Zero or one of the previous item (i.e. optional), e.g. a?, [a-z]?\n",
    "{n}\t        Exactly n repeats where n is a non-negative integer\n",
    "{n,}\t    At least n repeats\n",
    "{,n}\t    No more than n repeats\n",
    "{m,n}\t    At least m and no more than n repeats\n",
    "a(b|c)+\t    Parentheses that indicate the scope of the operators\n",
    "'''\n"
   ]
  },
  {
   "cell_type": "code",
   "execution_count": 5,
   "metadata": {},
   "outputs": [
    {
     "name": "stdout",
     "output_type": "stream",
     "text": [
      "[nltk_data] Downloading package words to\n",
      "[nltk_data]     C:\\Users\\이세온\\AppData\\Roaming\\nltk_data...\n",
      "[nltk_data]   Package words is already up-to-date!\n"
     ]
    },
    {
     "data": {
      "text/plain": [
       "True"
      ]
     },
     "execution_count": 5,
     "metadata": {},
     "output_type": "execute_result"
    }
   ],
   "source": [
    " nltk.download('words')\n",
    " "
   ]
  },
  {
   "cell_type": "code",
   "execution_count": 6,
   "metadata": {},
   "outputs": [
    {
     "name": "stdout",
     "output_type": "stream",
     "text": [
      "<class 'list'>\n"
     ]
    }
   ],
   "source": [
    "dic = nltk.corpus.words.words('en')\n",
    "print(type(dic))"
   ]
  },
  {
   "cell_type": "raw",
   "metadata": {},
   "source": [
    "wordlist - list comprehension \n",
    "{2nㅣn(R,n/2=0}는 for 2n in n이 R이면 if n/2=0처럼 이해하면 된다. \n",
    "for의 w를 돌리는데 이 속에는 in 속에 들어가는 것이 단어장 전체의 리스트가 들어간다.\n",
    "islower은 소문자 단어만 표시해달라는 말이다. \n",
    "for 다음의 in 부분 dic에 쓴 후 을 dic으로 바꿔줘도 된다. for loop를 볼 때에는 in 뒤에 부분을 먼저 봐야 한다. for 다음의 부분에 들어오는 것은 변수의 이름이다. 그 변수에 in뒤의 내용이 if의 조건 하에서 쌓이게 된다. 또한, 아래의 w의 type는 list이다:). "
   ]
  },
  {
   "cell_type": "code",
   "execution_count": 7,
   "metadata": {},
   "outputs": [
    {
     "name": "stdout",
     "output_type": "stream",
     "text": [
      "['a', 'aa', 'aal', 'aalii', 'aam', 'aardvark', 'aardwolf', 'aba', 'abac', 'abaca']\n"
     ]
    }
   ],
   "source": [
    "wordlist = [w for w in nltk.corpus.words.words('en') if w.islower()]\n",
    "print(wordlist[:10])"
   ]
  },
  {
   "cell_type": "markdown",
   "metadata": {},
   "source": [
    "위와 같은 식을 풀어쓴 것이다. 생각은 이렇게, 적을 때는 위처럼 하는 것이 편하다. "
   ]
  },
  {
   "cell_type": "code",
   "execution_count": null,
   "metadata": {},
   "outputs": [],
   "source": [
    " a = []\n",
    "for w in nltk.corpus.words.words('en'):\n",
    "    if w.islower():\n",
    "        a.append(w)"
   ]
  },
  {
   "cell_type": "markdown",
   "metadata": {},
   "source": [
    "함수의 괄호 안에 \"입력은 2개\" 이다. abcde 속에서 abc를 찾아달라는 말이다. 어디서부터 어디까지 match가 된다는 말이 나온다. 뒤의 입력이 범위, 첫 입력이 조건이 된다. "
   ]
  },
  {
   "cell_type": "code",
   "execution_count": 11,
   "metadata": {},
   "outputs": [
    {
     "data": {
      "text/plain": [
       "<_sre.SRE_Match object; span=(0, 3), match='abc'>"
      ]
     },
     "execution_count": 11,
     "metadata": {},
     "output_type": "execute_result"
    }
   ],
   "source": [
    "re.search('abc','abcde')"
   ]
  },
  {
   "cell_type": "markdown",
   "metadata": {},
   "source": [
    "없는 것을 찾으려고 하면, 결과값이 아예 안 나오게 된다. "
   ]
  },
  {
   "cell_type": "code",
   "execution_count": 9,
   "metadata": {},
   "outputs": [],
   "source": [
    "re.search('ed$','abcde')"
   ]
  },
  {
   "cell_type": "markdown",
   "metadata": {},
   "source": [
    "for loop의 word list에서 w가 단어의 개수만큼 돌면서, in 아래의 범위 안에서 if조건을 걸며 w에 쌓인다. \n",
    "$ 표시는 단어의 끝을 의미한다. w로 들어올 때는, 단어별로 들어오게 된다. 단어의 끝에 ed가 발견이 되면 선택하여  for 앞의 w로 넣어달라는 뜻이다. (반대로, ^는 단어의 처음을 의미한다) 그중 첫 10번째까지 선택해달라는 뜻이다. 애초에 10개까지 설정했기 떄문에 print안에 있는[:10]는 생략해도 된다. "
   ]
  },
  {
   "cell_type": "code",
   "execution_count": 9,
   "metadata": {},
   "outputs": [
    {
     "name": "stdout",
     "output_type": "stream",
     "text": [
      "['abaissed', 'abandoned', 'abased', 'abashed', 'abatised', 'abed', 'aborted', 'abridged', 'abscessed', 'absconded']\n"
     ]
    }
   ],
   "source": [
    "result = [w for w in wordlist if re.search('ed$', w)][:10]\n",
    "print(result[:10])"
   ]
  },
  {
   "cell_type": "markdown",
   "metadata": {},
   "source": [
    "re.search(_,w) 괄호 안에 원하는 조건을 적어주면 그 조건의 단어를 찾을 수 있다. \n",
    ".은 불특정한 하나의 캐릭터로, ^는 처음으로, $는 맨 끝으로 생각하면 된다. 총 10개의 character의 단어를 보여준다. "
   ]
  },
  {
   "cell_type": "code",
   "execution_count": 10,
   "metadata": {},
   "outputs": [
    {
     "name": "stdout",
     "output_type": "stream",
     "text": [
      "['abjectly', 'adjuster', 'dejected', 'dejectly', 'injector', 'majestic', 'objectee', 'objector', 'rejecter', 'rejector']\n"
     ]
    }
   ],
   "source": [
    "result = [w for w in wordlist if re.search('^..j..t..$', w)][:10]\n",
    "print(result[:10])"
   ]
  },
  {
   "cell_type": "markdown",
   "metadata": {},
   "source": [
    "wordlist에서 아래의 조건인 각각의 [ ] - matches one of the listed set of characters 속에 있는 알파벳들 중 아무거나 하나로 이루어졌을 때 해당 단어를 표시해달라는 뜻."
   ]
  },
  {
   "cell_type": "code",
   "execution_count": 11,
   "metadata": {
    "scrolled": true
   },
   "outputs": [
    {
     "name": "stdout",
     "output_type": "stream",
     "text": [
      "['gold', 'golf', 'hold', 'hole']\n"
     ]
    }
   ],
   "source": [
    "result = [w for w in wordlist if re.search('^[ghi][mno][jlk][def]$', w)][:10]\n",
    "print(result[:10])"
   ]
  },
  {
   "cell_type": "markdown",
   "metadata": {},
   "source": [
    "아래의 조건은 a나h로 시작되면서 +는 그에 더해 1개 이상의 캐릭터로 이루어진 것을 보여달라는 뜻. "
   ]
  },
  {
   "cell_type": "code",
   "execution_count": 12,
   "metadata": {},
   "outputs": [
    {
     "name": "stdout",
     "output_type": "stream",
     "text": [
      "['a', 'aa', 'ah', 'aha', 'h', 'ha', 'hah']\n"
     ]
    }
   ],
   "source": [
    "result = [w for w in wordlist if re.search('^[ah]+$', w)][:10]\n",
    "print(result[:10])\n"
   ]
  },
  {
   "cell_type": "markdown",
   "metadata": {},
   "source": [
    "또 다른 corpus(사전)를 보여준다.wsj는 wallstreet journal의 단어를 가져온 것이다. 아래의 worldlist또한 list이다. \n",
    "소수를 포함하여 보여준다. (\\원화표시).는 wildcard로의 .이 아니라 실제 의미(문자 그대로)의 .을 사용하게끔 만들어준다.[ ]중 하의 숫자 중 '하나'가 매치되는 것을 의미하고, +는 앞에 있는 것이 통째로 반복되어도 된다는 의미이다. 만약 ^와$가 없다면, 처음과 끝을 지정하지 않았기 때문에 해당 패턴이 어디선가 한번이라도 나오면 된다. "
   ]
  },
  {
   "cell_type": "code",
   "execution_count": 15,
   "metadata": {},
   "outputs": [
    {
     "name": "stdout",
     "output_type": "stream",
     "text": [
      "['0.0085', '0.05', '0.1', '0.16', '0.2', '0.25', '0.28', '0.3', '0.4', '0.5']\n"
     ]
    }
   ],
   "source": [
    "wsj = sorted(set(nltk.corpus.treebank.words()))\n",
    "wordlist = [w for w in wsj if re.search('^[0-9]+\\.[0-9]+$', w)]\n",
    "print(wordlist[:10])"
   ]
  },
  {
   "cell_type": "markdown",
   "metadata": {},
   "source": [
    "아래 내용은 처음에 알파벳이 아무거나 나오고, + 로 뒤에 아무것이나 다 이어진 후, 실제로$(달러표시)가 있고 끝나는 것($)이 있는 것을 찾아달라는 것이다.A-Z는 대문자만을 찾게 된다. "
   ]
  },
  {
   "cell_type": "code",
   "execution_count": 17,
   "metadata": {},
   "outputs": [
    {
     "name": "stdout",
     "output_type": "stream",
     "text": [
      "['C$', 'US$']\n"
     ]
    }
   ],
   "source": [
    "print(wordlist[:10])\n",
    "wordlist = [w for w in wsj if re.search('^[A-Z]+\\$$', w)]"
   ]
  },
  {
   "cell_type": "markdown",
   "metadata": {},
   "source": [
    "아래의 조건은 string의 처음이 숫자로 시작되며, { }안의 숫자(양의 정수인 경우)만큼 반복되는 것을 찾아달라는 뜻이다. 4자리 숫자가 모두 나오게 된다.  "
   ]
  },
  {
   "cell_type": "code",
   "execution_count": null,
   "metadata": {},
   "outputs": [],
   "source": [
    "print(wordlist[:10])\n",
    "wordlist = [w for w in wsj if re.search('^[0-9]{4}$', w)]"
   ]
  },
  {
   "cell_type": "markdown",
   "metadata": {},
   "source": [
    "아래의 조건 중 +는 이전의 것이 하나 이상 나와야 한다는 뜻이다. -는 그냥 일반적으로 dash의 의미.뒤에는 a-z의 알파벳이 3-5개 나오는 것을 찾아달라는 말이다. "
   ]
  },
  {
   "cell_type": "code",
   "execution_count": 19,
   "metadata": {},
   "outputs": [
    {
     "name": "stdout",
     "output_type": "stream",
     "text": [
      "['10-day', '10-lap', '10-year', '100-share', '12-point', '12-year', '14-hour', '15-day', '150-point', '190-point']\n"
     ]
    }
   ],
   "source": [
    "print(wordlist[:10])\n",
    "wordlist = [w for w in wsj if re.search('^[0-9]+-[a-z]{3,5}$', w)]"
   ]
  },
  {
   "cell_type": "code",
   "execution_count": 21,
   "metadata": {
    "scrolled": true
   },
   "outputs": [
    {
     "name": "stdout",
     "output_type": "stream",
     "text": [
      "['black-and-white', 'bread-and-butter', 'father-in-law', 'machine-gun-toting', 'savings-and-loan']\n"
     ]
    }
   ],
   "source": [
    "print(wordlist[:10])\n",
    "wordlist = [w for w in wsj if re.search('^[a-z]{5,}-[a-z]{2,3}-[a-z]{,6}$', w)]"
   ]
  },
  {
   "cell_type": "markdown",
   "metadata": {},
   "source": [
    "wordlist의 []는 큰 의미 없이 list로 묶어주는 역할을 한다. 끝이 (ed|ing) -ed or ing로 묶이는 것. "
   ]
  },
  {
   "cell_type": "code",
   "execution_count": 22,
   "metadata": {},
   "outputs": [
    {
     "name": "stdout",
     "output_type": "stream",
     "text": [
      "['black-and-white', 'bread-and-butter', 'father-in-law', 'machine-gun-toting', 'savings-and-loan']\n",
      "['62%-owned', 'Absorbed', 'According', 'Adopting', 'Advanced', 'Advancing', 'Alfred', 'Allied', 'Annualized', 'Anything']\n"
     ]
    }
   ],
   "source": [
    "print(wordlist[:10])\n",
    "wordlist = [w for w in wsj if re.search('(ed|ing)$', w)]\n",
    "print(wordlist[:10])"
   ]
  },
  {
   "cell_type": "markdown",
   "metadata": {},
   "source": [
    "findall은 앞의 입력을 뒤의 입력에서 찾아서 모두 보여달라는 뜻이다. "
   ]
  },
  {
   "cell_type": "code",
   "execution_count": 23,
   "metadata": {},
   "outputs": [
    {
     "data": {
      "text/plain": [
       "['ab', 'ab', 'ab', 'ab']"
      ]
     },
     "execution_count": 23,
     "metadata": {},
     "output_type": "execute_result"
    }
   ],
   "source": [
    "re.findall('ab','ababddabkabddd')"
   ]
  },
  {
   "cell_type": "markdown",
   "metadata": {},
   "source": [
    "뒤의 for loop에서 부터 보자면, word에서 (aeiou)가 {2,}두개 이상 들어가는 것을 findall로 찾아서 리스트로 만든 것을 다시 for loop에 넣어서 vs의 값으로 넣어주는 것이다. 결과적으로 모음(aeiou)이 2개 이상 들어간 것 []에 넣어서 list로 내용을 다 보여달라는 뜻이다. "
   ]
  },
  {
   "cell_type": "code",
   "execution_count": 27,
   "metadata": {
    "collapsed": true
   },
   "outputs": [
    {
     "data": {
      "text/plain": [
       "['ea',\n",
       " 'oi',\n",
       " 'ea',\n",
       " 'ou',\n",
       " 'oi',\n",
       " 'ea',\n",
       " 'ea',\n",
       " 'oi',\n",
       " 'oi',\n",
       " 'ea',\n",
       " 'io',\n",
       " 'ea',\n",
       " 'ea',\n",
       " 'ea',\n",
       " 'oi',\n",
       " 'ea',\n",
       " 'ea',\n",
       " 'ea',\n",
       " 'ea',\n",
       " 'ea',\n",
       " 'ea',\n",
       " 'ea',\n",
       " 'ee',\n",
       " 'ea',\n",
       " 'ea',\n",
       " 'ea',\n",
       " 'ea',\n",
       " 'ea',\n",
       " 'ea',\n",
       " 'ea',\n",
       " 'ea',\n",
       " 'oi',\n",
       " 'ea',\n",
       " 'ea',\n",
       " 'ou',\n",
       " 'ou',\n",
       " 'ou',\n",
       " 'ie',\n",
       " 'ui',\n",
       " 'io',\n",
       " 'ua',\n",
       " 'io',\n",
       " 'ai',\n",
       " 'ai',\n",
       " 'ai',\n",
       " 'io',\n",
       " 'ie',\n",
       " 'ue',\n",
       " 'ue',\n",
       " 'ia',\n",
       " 'ie',\n",
       " 'ea',\n",
       " 'ai',\n",
       " 'ou',\n",
       " 'ia',\n",
       " 'ei',\n",
       " 'ie',\n",
       " 'ea',\n",
       " 'ea',\n",
       " 'ie',\n",
       " 'ia',\n",
       " 'ia',\n",
       " 'ua',\n",
       " 'ie',\n",
       " 'io',\n",
       " 'ea',\n",
       " 'ia',\n",
       " 'io',\n",
       " 'ui',\n",
       " 'ia',\n",
       " 'ia',\n",
       " 'ea',\n",
       " 'iai',\n",
       " 'ai',\n",
       " 'ia',\n",
       " 'ia',\n",
       " 'ia',\n",
       " 'ia',\n",
       " 'ia',\n",
       " 'io',\n",
       " 'oo',\n",
       " 'io',\n",
       " 'ia',\n",
       " 'ia',\n",
       " 'ia',\n",
       " 'ia',\n",
       " 'ue',\n",
       " 'ea',\n",
       " 'ai',\n",
       " 'ai',\n",
       " 'ue',\n",
       " 'ie',\n",
       " 'au',\n",
       " 'ea',\n",
       " 'ea',\n",
       " 'ea',\n",
       " 'ea',\n",
       " 'eau',\n",
       " 'au',\n",
       " 'ei',\n",
       " 'ei',\n",
       " 'ei',\n",
       " 'ei',\n",
       " 'ei',\n",
       " 'ia',\n",
       " 'ie',\n",
       " 'io',\n",
       " 'ue',\n",
       " 'oa',\n",
       " 'oei',\n",
       " 'oe',\n",
       " 'ia',\n",
       " 'oo',\n",
       " 'oo',\n",
       " 'oo',\n",
       " 'eau',\n",
       " 'ou',\n",
       " 'ou',\n",
       " 'ai',\n",
       " 'ou',\n",
       " 'ai',\n",
       " 'oo',\n",
       " 'ea',\n",
       " 'au',\n",
       " 'ia',\n",
       " 'ea',\n",
       " 'ea',\n",
       " 'ee',\n",
       " 'ia',\n",
       " 'ai',\n",
       " 'oa',\n",
       " 'oo',\n",
       " 'oo',\n",
       " 'oo',\n",
       " 'ei',\n",
       " 'ei',\n",
       " 'ea',\n",
       " 'ui',\n",
       " 'ui',\n",
       " 'eau',\n",
       " 'ie',\n",
       " 'ia',\n",
       " 'ia',\n",
       " 'ai',\n",
       " 'eau',\n",
       " 'ia',\n",
       " 'ea',\n",
       " 'ie',\n",
       " 'ie',\n",
       " 'oo',\n",
       " 'ai',\n",
       " 'ai',\n",
       " 'io',\n",
       " 'ie',\n",
       " 'ie',\n",
       " 'eau',\n",
       " 'ee',\n",
       " 'ee',\n",
       " 'ea',\n",
       " 'io',\n",
       " 'oo',\n",
       " 'ia',\n",
       " 'ie',\n",
       " 'ui',\n",
       " 'io',\n",
       " 'io',\n",
       " 'io',\n",
       " 'ai',\n",
       " 'ai',\n",
       " 'au',\n",
       " 'oa',\n",
       " 'oi',\n",
       " 'ia',\n",
       " 'io',\n",
       " 'io',\n",
       " 'ee',\n",
       " 'ie',\n",
       " 'ea',\n",
       " 'io',\n",
       " 'io',\n",
       " 'ie',\n",
       " 'ou',\n",
       " 'io',\n",
       " 'io',\n",
       " 'ue',\n",
       " 'io',\n",
       " 'io',\n",
       " 'ai',\n",
       " 'ue',\n",
       " 'ui',\n",
       " 'io',\n",
       " 'oo',\n",
       " 'oo',\n",
       " 'io',\n",
       " 'ou',\n",
       " 'ou',\n",
       " 'ou',\n",
       " 'ou',\n",
       " 'ie',\n",
       " 'ou',\n",
       " 'ou',\n",
       " 'ou',\n",
       " 'ou',\n",
       " 'ou',\n",
       " 'ee',\n",
       " 'ui',\n",
       " 'ee',\n",
       " 'ia',\n",
       " 'ai',\n",
       " 'ai',\n",
       " 'ai',\n",
       " 'ie',\n",
       " 'ie',\n",
       " 'oi',\n",
       " 'ie',\n",
       " 'io',\n",
       " 'ea',\n",
       " 'ea',\n",
       " 'ea',\n",
       " 'ee',\n",
       " 'au',\n",
       " 'io',\n",
       " 'ai',\n",
       " 'io',\n",
       " 'oi',\n",
       " 'ia',\n",
       " 'ia',\n",
       " 'eo',\n",
       " 'ie',\n",
       " 'ea',\n",
       " 'io',\n",
       " 'oa',\n",
       " 'oe',\n",
       " 'ai',\n",
       " 'io',\n",
       " 'ie',\n",
       " 'ue',\n",
       " 'ou',\n",
       " 'oi',\n",
       " 'ue',\n",
       " 'ee',\n",
       " 'ie',\n",
       " 'ia',\n",
       " 'ie',\n",
       " 'io',\n",
       " 'io',\n",
       " 'ia',\n",
       " 'io',\n",
       " 'ie',\n",
       " 'ou',\n",
       " 'ou',\n",
       " 'ee',\n",
       " 'ea',\n",
       " 'ai',\n",
       " 'ua',\n",
       " 'ui',\n",
       " 'ui',\n",
       " 'ui',\n",
       " 'uu',\n",
       " 'ea',\n",
       " 'ea',\n",
       " 'io',\n",
       " 'ui',\n",
       " 'ie',\n",
       " 'ia',\n",
       " 'ie',\n",
       " 'ie',\n",
       " 'ei',\n",
       " 'ai',\n",
       " 'ai',\n",
       " 'ai',\n",
       " 'ai',\n",
       " 'ai',\n",
       " 'ie',\n",
       " 'au',\n",
       " 'ea',\n",
       " 'ua',\n",
       " 'io',\n",
       " 'ee',\n",
       " 'ee',\n",
       " 'ie',\n",
       " 'ee',\n",
       " 'ia',\n",
       " 'ia',\n",
       " 'io',\n",
       " 'oo',\n",
       " 'oo',\n",
       " 'oo',\n",
       " 'ei',\n",
       " 'ei',\n",
       " 'ou',\n",
       " 'io',\n",
       " 'ou',\n",
       " 'ou',\n",
       " 'ai',\n",
       " 'ou',\n",
       " 'ou',\n",
       " 'ee',\n",
       " 'ou',\n",
       " 'ie',\n",
       " 'ee',\n",
       " 'ee',\n",
       " 'eu',\n",
       " 'eu',\n",
       " 'ie',\n",
       " 'ie',\n",
       " 'ue',\n",
       " 'ai',\n",
       " 'ie',\n",
       " 'eo',\n",
       " 'eo',\n",
       " 'eo',\n",
       " 'ia',\n",
       " 'eo',\n",
       " 'ia',\n",
       " 'ia',\n",
       " 'ia',\n",
       " 'ie',\n",
       " 'ie',\n",
       " 'au',\n",
       " 'iu',\n",
       " 'ia',\n",
       " 'au',\n",
       " 'oo',\n",
       " 'oo',\n",
       " 'ie',\n",
       " 'ua',\n",
       " 'ua',\n",
       " 'ai',\n",
       " 'ea',\n",
       " 'ee',\n",
       " 'ee',\n",
       " 'ee',\n",
       " 'ee',\n",
       " 'ee',\n",
       " 'ou',\n",
       " 'ou',\n",
       " 'ou',\n",
       " 'ua',\n",
       " 'ee',\n",
       " 'ua',\n",
       " 'ee',\n",
       " 'ua',\n",
       " 'ue',\n",
       " 'ui',\n",
       " 'ui',\n",
       " 'ui',\n",
       " 'ea',\n",
       " 'oo',\n",
       " 'ou',\n",
       " 'ou',\n",
       " 'au',\n",
       " 'io',\n",
       " 'aii',\n",
       " 'aiia',\n",
       " 'ea',\n",
       " 'ea',\n",
       " 'ea',\n",
       " 'ea',\n",
       " 'ea',\n",
       " 'ei',\n",
       " 'ei',\n",
       " 'ei',\n",
       " 'ei',\n",
       " 'oo',\n",
       " 'ie',\n",
       " 'oo',\n",
       " 'ou',\n",
       " 'ou',\n",
       " 'ou',\n",
       " 'ou',\n",
       " 'ou',\n",
       " 'ou',\n",
       " 'ea',\n",
       " 'oi',\n",
       " 'ee',\n",
       " 'ia',\n",
       " 'ia',\n",
       " 'ia',\n",
       " 'ua',\n",
       " 'ua',\n",
       " 'ia',\n",
       " 'ia',\n",
       " 'ie',\n",
       " 'io',\n",
       " 'ia',\n",
       " 'ou',\n",
       " 'ea',\n",
       " 'io',\n",
       " 'io',\n",
       " 'eu',\n",
       " 'ia',\n",
       " 'io',\n",
       " 'ie',\n",
       " 'ia',\n",
       " 'ie',\n",
       " 'ae',\n",
       " 'ue',\n",
       " 'ia',\n",
       " 'ua',\n",
       " 'ai',\n",
       " 'aa',\n",
       " 'aa',\n",
       " 'ai',\n",
       " 'ua',\n",
       " 'oa',\n",
       " 'oe',\n",
       " 'oe',\n",
       " 'ou',\n",
       " 'ou',\n",
       " 'ia',\n",
       " 'ia',\n",
       " 'ie',\n",
       " 'ia',\n",
       " 'oo',\n",
       " 'ee',\n",
       " 'ei',\n",
       " 'ea',\n",
       " 'ea',\n",
       " 'ee',\n",
       " 'ei',\n",
       " 'ei',\n",
       " 'ee',\n",
       " 'au',\n",
       " 'ei',\n",
       " 'oi',\n",
       " 'oi',\n",
       " 'ea',\n",
       " 'ua',\n",
       " 'ie',\n",
       " 'oui',\n",
       " 'ieu',\n",
       " 'ou',\n",
       " 'au',\n",
       " 'au',\n",
       " 'au',\n",
       " 'ea',\n",
       " 'ea',\n",
       " 'ea',\n",
       " 'ee',\n",
       " 'ou',\n",
       " 'io',\n",
       " 'ei',\n",
       " 'ei',\n",
       " 'ei',\n",
       " 'eo',\n",
       " 'eo',\n",
       " 'io',\n",
       " 'ie',\n",
       " 'ou',\n",
       " 'oa',\n",
       " 'oe',\n",
       " 'oe',\n",
       " 'oo',\n",
       " 'ai',\n",
       " 'oui',\n",
       " 'oui',\n",
       " 'ia',\n",
       " 'oui',\n",
       " 'ia',\n",
       " 'oui',\n",
       " 'ie',\n",
       " 'ae',\n",
       " 'ai',\n",
       " 'ia',\n",
       " 'ia',\n",
       " 'ie',\n",
       " 'ie',\n",
       " 'oui',\n",
       " 'ie',\n",
       " 'io',\n",
       " 'io',\n",
       " 'io',\n",
       " 'ia',\n",
       " 'au',\n",
       " 'ui',\n",
       " 'eo',\n",
       " 'ea',\n",
       " 'ea',\n",
       " 'ia',\n",
       " 'ee',\n",
       " 'ei',\n",
       " 'ia',\n",
       " 'ia',\n",
       " 'ia',\n",
       " 'ae',\n",
       " 'ae',\n",
       " 'io',\n",
       " 'ue',\n",
       " 'ai',\n",
       " 'au',\n",
       " 'ee',\n",
       " 'ea',\n",
       " 'ea',\n",
       " 'io',\n",
       " 'ou',\n",
       " 'ui',\n",
       " 'io',\n",
       " 'oi',\n",
       " 'ou',\n",
       " 'ie',\n",
       " 'oo',\n",
       " 'oo',\n",
       " 'oo',\n",
       " 'eo',\n",
       " 'ou',\n",
       " 'ua',\n",
       " 'oi',\n",
       " 'ia',\n",
       " 'ia',\n",
       " 'ia',\n",
       " 'io',\n",
       " 'io',\n",
       " 'io',\n",
       " 'io',\n",
       " 'ea',\n",
       " 'ea',\n",
       " 'ea',\n",
       " 'ee',\n",
       " 'ia',\n",
       " 'ei',\n",
       " 'ei',\n",
       " 'oo',\n",
       " 'eu',\n",
       " 'ou',\n",
       " 'ee',\n",
       " 'ua',\n",
       " 'ie',\n",
       " 'ei',\n",
       " 'ai',\n",
       " 'ie',\n",
       " 'ea',\n",
       " 'ia',\n",
       " 'ou',\n",
       " 'ie',\n",
       " 'ou',\n",
       " 'ei',\n",
       " 'io',\n",
       " 'io',\n",
       " 'ea',\n",
       " 'ia',\n",
       " 'io',\n",
       " 'io',\n",
       " 'ou',\n",
       " 'ia',\n",
       " 'io',\n",
       " 'io',\n",
       " 'io',\n",
       " 'io',\n",
       " 'io',\n",
       " 'ea',\n",
       " 'ea',\n",
       " 'ea',\n",
       " 'ai',\n",
       " 'ia',\n",
       " 'ua',\n",
       " 'ou',\n",
       " 'ia',\n",
       " 'ie',\n",
       " 'ia',\n",
       " 'au',\n",
       " 'au',\n",
       " 'ou',\n",
       " 'ea',\n",
       " 'ia',\n",
       " 'ie',\n",
       " 'eo',\n",
       " 'eo',\n",
       " 'ia',\n",
       " 'oi',\n",
       " 'io',\n",
       " 'ua',\n",
       " 'eu',\n",
       " 'ao',\n",
       " 'ia',\n",
       " 'ia',\n",
       " 'oe',\n",
       " 'ie',\n",
       " 'ie',\n",
       " 'io',\n",
       " 'ai',\n",
       " 'io',\n",
       " 'ie',\n",
       " 'oo',\n",
       " 'oo',\n",
       " 'io',\n",
       " 'ua',\n",
       " 'iou',\n",
       " 'ie',\n",
       " 'ia',\n",
       " 'iou',\n",
       " 'io',\n",
       " 'ee',\n",
       " 'io',\n",
       " 'io',\n",
       " 'ua',\n",
       " 'io',\n",
       " 'ia',\n",
       " 'ia',\n",
       " 'io',\n",
       " 'io',\n",
       " 'ue',\n",
       " 'ua',\n",
       " 'uee',\n",
       " 'ia',\n",
       " 'io',\n",
       " 'ae',\n",
       " 'ai',\n",
       " 'ai',\n",
       " 'oa',\n",
       " 'ei',\n",
       " 'ie',\n",
       " 'au',\n",
       " 'oo',\n",
       " 'ea',\n",
       " 'ea',\n",
       " 'ea',\n",
       " 'ea',\n",
       " 'ea',\n",
       " 'oo',\n",
       " 'ee',\n",
       " 'io',\n",
       " 'ia',\n",
       " 'ai',\n",
       " 'ee',\n",
       " 'ea',\n",
       " 'ea',\n",
       " 'ou',\n",
       " 'au',\n",
       " 'ai',\n",
       " 'eu',\n",
       " 'eu',\n",
       " 'eu',\n",
       " 'ue',\n",
       " 'ie',\n",
       " 'io',\n",
       " 'ou',\n",
       " 'ie',\n",
       " 'ie',\n",
       " 'ie',\n",
       " 'ie',\n",
       " 'ie',\n",
       " 'oe',\n",
       " 'ee',\n",
       " 'oo',\n",
       " 'oo',\n",
       " 'oo',\n",
       " 'ie',\n",
       " 'ou',\n",
       " 'ou',\n",
       " 'ie',\n",
       " 'ia',\n",
       " 'ai',\n",
       " 'ai',\n",
       " 'ue',\n",
       " 'au',\n",
       " 'au',\n",
       " 'au',\n",
       " 'au',\n",
       " 'ia',\n",
       " 'ae',\n",
       " 'oo',\n",
       " 'ei',\n",
       " 'ie',\n",
       " 'ie',\n",
       " 'ia',\n",
       " 'ea',\n",
       " 'ea',\n",
       " 'ea',\n",
       " 'ea',\n",
       " 'ea',\n",
       " 'ea',\n",
       " 'ia',\n",
       " 'ia',\n",
       " 'io',\n",
       " 'ie',\n",
       " 'ee',\n",
       " 'ou',\n",
       " 'io',\n",
       " 'io',\n",
       " 'eou',\n",
       " 'ia',\n",
       " 'ie',\n",
       " 'io',\n",
       " 'ou',\n",
       " 'ea',\n",
       " 'ee',\n",
       " 'ie',\n",
       " 'oo',\n",
       " 'ai',\n",
       " 'ia',\n",
       " 'ie',\n",
       " 'ie',\n",
       " 'eo',\n",
       " 'ie',\n",
       " 'oa',\n",
       " 'ia',\n",
       " 'ie',\n",
       " 'aia',\n",
       " 'io',\n",
       " 'oo',\n",
       " 'ou',\n",
       " 'ou',\n",
       " 'ou',\n",
       " 'ou',\n",
       " 'ou',\n",
       " 'ou',\n",
       " 'ea',\n",
       " 'ou',\n",
       " 'ie',\n",
       " 'ie',\n",
       " 'ai',\n",
       " 'io',\n",
       " 'ee',\n",
       " 'ie',\n",
       " 'ie',\n",
       " 'oo',\n",
       " 'ea',\n",
       " 'ie',\n",
       " 'uie',\n",
       " 'iu',\n",
       " 'iu',\n",
       " 'ea',\n",
       " 'ee',\n",
       " 'ee',\n",
       " 'ei',\n",
       " 'ie',\n",
       " 'ie',\n",
       " 'ie',\n",
       " 'ai',\n",
       " 'ee',\n",
       " 'ua',\n",
       " 'ui',\n",
       " 'ai',\n",
       " 'ea',\n",
       " 'ai',\n",
       " 'ai',\n",
       " 'ei',\n",
       " 'ai',\n",
       " 'ai',\n",
       " 'ai',\n",
       " 'eo',\n",
       " 'au',\n",
       " 'ea',\n",
       " 'ea',\n",
       " 'ei',\n",
       " 'io',\n",
       " 'io',\n",
       " 'ai',\n",
       " 'ai',\n",
       " 'ei',\n",
       " 'eo',\n",
       " 'ou',\n",
       " 'ou',\n",
       " 'ee',\n",
       " 'oo',\n",
       " 'io',\n",
       " 'oo',\n",
       " 'ou',\n",
       " 'ou',\n",
       " 'io',\n",
       " 'io',\n",
       " 'ai',\n",
       " 'ai',\n",
       " 'io',\n",
       " 'ea',\n",
       " 'ie',\n",
       " 'ee',\n",
       " 'au',\n",
       " 'ou',\n",
       " 'eau',\n",
       " 'ue',\n",
       " 'ou',\n",
       " 'ai',\n",
       " 'oo',\n",
       " 'oo',\n",
       " 'io',\n",
       " 'ie',\n",
       " 'ie',\n",
       " 'ue',\n",
       " 'ia',\n",
       " 'eo',\n",
       " 'ia',\n",
       " 'ia',\n",
       " 'ua',\n",
       " 'oi',\n",
       " 'ae',\n",
       " 'ae',\n",
       " 'ui',\n",
       " 'ou',\n",
       " 'oo',\n",
       " 'ea',\n",
       " 'ee',\n",
       " 'ei',\n",
       " 'ei',\n",
       " 'ie',\n",
       " 'ei',\n",
       " 'ou',\n",
       " 'ee',\n",
       " 'ea',\n",
       " 'ia',\n",
       " 'ia',\n",
       " 'ia',\n",
       " 'ou',\n",
       " 'oo',\n",
       " 'oo',\n",
       " 'oo',\n",
       " 'oo',\n",
       " 'oo',\n",
       " 'ee',\n",
       " 'ia',\n",
       " 'iao',\n",
       " 'ai',\n",
       " 'ea',\n",
       " 'ea',\n",
       " 'ie',\n",
       " 'ou',\n",
       " 'ou',\n",
       " 'ou',\n",
       " 'ou',\n",
       " 'ou',\n",
       " 'ue',\n",
       " 'ea',\n",
       " 'oa',\n",
       " 'io',\n",
       " 'io',\n",
       " 'io',\n",
       " 'io',\n",
       " 'ou',\n",
       " 'ou',\n",
       " 'oa',\n",
       " 'io',\n",
       " 'ie',\n",
       " 'io',\n",
       " 'ou',\n",
       " 'ou',\n",
       " 'ou',\n",
       " 'ou',\n",
       " 'ou',\n",
       " 'ou',\n",
       " 'ou',\n",
       " 'ue',\n",
       " 'ue',\n",
       " 'ie',\n",
       " 'ie',\n",
       " 'ie',\n",
       " 'ie',\n",
       " 'ie',\n",
       " 'ai',\n",
       " 'ui',\n",
       " 'ui',\n",
       " 'ui',\n",
       " 'ui',\n",
       " 'ui',\n",
       " 'ui',\n",
       " 'ui',\n",
       " 'io',\n",
       " 'ui',\n",
       " 'io',\n",
       " 'ui',\n",
       " 'io',\n",
       " 'io',\n",
       " 'io',\n",
       " 'ie',\n",
       " 'ua',\n",
       " 'ua',\n",
       " 'io',\n",
       " 'io',\n",
       " 'io',\n",
       " 'io',\n",
       " 'ua',\n",
       " 'ua',\n",
       " 'io',\n",
       " 'io',\n",
       " 'ia',\n",
       " 'ae',\n",
       " 'ae',\n",
       " 'ai',\n",
       " 'ai',\n",
       " 'ia',\n",
       " 'ia',\n",
       " 'ai',\n",
       " 'oo',\n",
       " 'ai',\n",
       " 'ai',\n",
       " 'ie',\n",
       " 'ee',\n",
       " 'ee',\n",
       " 'ee',\n",
       " 'eei',\n",
       " 'ee',\n",
       " 'ee',\n",
       " 'ee',\n",
       " 'ea',\n",
       " 'ai',\n",
       " 'ai',\n",
       " 'ai',\n",
       " 'ai',\n",
       " 'ai',\n",
       " 'ai',\n",
       " 'ai',\n",
       " 'ai',\n",
       " 'ai',\n",
       " 'ai',\n",
       " 'ai',\n",
       " 'ai',\n",
       " 'ai',\n",
       " 'ai',\n",
       " 'ai',\n",
       " 'ai',\n",
       " 'ai',\n",
       " 'ai',\n",
       " 'ai',\n",
       " 'ie',\n",
       " 'io',\n",
       " 'ia',\n",
       " 'ie',\n",
       " 'io',\n",
       " 'ea',\n",
       " 'ou',\n",
       " 'ui',\n",
       " 'io',\n",
       " 'iou',\n",
       " 'io',\n",
       " 'ou',\n",
       " 'ou',\n",
       " 'ou',\n",
       " 'ie',\n",
       " 'ou',\n",
       " 'ou',\n",
       " 'ou',\n",
       " 'ou',\n",
       " 'ua',\n",
       " 'ua',\n",
       " 'ua',\n",
       " 'io',\n",
       " 'io',\n",
       " 'ia',\n",
       " 'eo',\n",
       " 'io',\n",
       " 'ie',\n",
       " 'ie',\n",
       " 'iou',\n",
       " 'ie',\n",
       " 'ea',\n",
       " 'ea',\n",
       " 'ea',\n",
       " 'ea',\n",
       " 'ea',\n",
       " 'ea',\n",
       " 'ea',\n",
       " 'ea',\n",
       " 'au',\n",
       " 'ia',\n",
       " 'ia',\n",
       " 'io',\n",
       " 'io',\n",
       " 'ie',\n",
       " 'oi',\n",
       " 'oi',\n",
       " 'oi',\n",
       " 'oi',\n",
       " 'ia',\n",
       " 'io',\n",
       " 'oa',\n",
       " 'oa',\n",
       " 'oa',\n",
       " 'ia',\n",
       " 'ia',\n",
       " 'ia',\n",
       " 'io',\n",
       " 'ia',\n",
       " 'io',\n",
       " 'ia',\n",
       " 'ea',\n",
       " 'ea',\n",
       " 'ue',\n",
       " 'ue',\n",
       " 'ue',\n",
       " 'ui',\n",
       " 'ou',\n",
       " 'io',\n",
       " 'au',\n",
       " 'au',\n",
       " 'io',\n",
       " 'io',\n",
       " 'ua',\n",
       " 'io',\n",
       " 'ia',\n",
       " 'ia',\n",
       " 'ia',\n",
       " 'ia',\n",
       " 'io',\n",
       " 'io',\n",
       " 'io',\n",
       " 'ie',\n",
       " 'io',\n",
       " 'au',\n",
       " 'io',\n",
       " 'au',\n",
       " ...]"
      ]
     },
     "execution_count": 27,
     "metadata": {},
     "output_type": "execute_result"
    }
   ],
   "source": [
    "[vs for word in wsj for vs in re.findall(r'[aeiou]{2,}',word)]"
   ]
  },
  {
   "cell_type": "markdown",
   "metadata": {},
   "source": [
    "위의 list 내용을 다시 FreqDist에 거르고, 상위 10번째까지 보여주자면, 각각의 모음의 조합과 그 빈도가 나오게 된다.  "
   ]
  },
  {
   "cell_type": "code",
   "execution_count": 28,
   "metadata": {},
   "outputs": [
    {
     "ename": "SyntaxError",
     "evalue": "invalid syntax (<ipython-input-28-075290d5333a>, line 1)",
     "output_type": "error",
     "traceback": [
      "\u001b[1;36m  File \u001b[1;32m\"<ipython-input-28-075290d5333a>\"\u001b[1;36m, line \u001b[1;32m1\u001b[0m\n\u001b[1;33m    fdist = nltk.FreqDist[vs for word in wsj for vs in re.findall(r'[aeiou]{2,}',word)]\u001b[0m\n\u001b[1;37m                               ^\u001b[0m\n\u001b[1;31mSyntaxError\u001b[0m\u001b[1;31m:\u001b[0m invalid syntax\n"
     ]
    }
   ],
   "source": [
    "fdist = nltk.FreqDist[vs for word in wsj for vs in re.findall(r'[aeiou]{2,}',word)]\n",
    "fdist.most_comon(10)"
   ]
  },
  {
   "cell_type": "markdown",
   "metadata": {},
   "source": [
    "<숙제>는 이전까지 markdown을 하고, 이후부터는 findall, most_common을 직접 해보는 것이다. +numpy를 예습해 올 것."
   ]
  },
  {
   "cell_type": "code",
   "execution_count": 29,
   "metadata": {
    "scrolled": true
   },
   "outputs": [],
   "source": [
    "word = 'supercalifragilisticexpialidocious'"
   ]
  },
  {
   "cell_type": "code",
   "execution_count": 33,
   "metadata": {},
   "outputs": [
    {
     "name": "stdout",
     "output_type": "stream",
     "text": [
      "['u', 'e', 'a', 'i', 'a', 'i', 'i', 'i', 'e', 'i', 'a', 'i', 'o', 'i', 'o', 'u']\n"
     ]
    }
   ],
   "source": [
    "result = re.findall(r'[aeiou]', word)\n",
    "print(result)"
   ]
  },
  {
   "cell_type": "markdown",
   "metadata": {},
   "source": [
    "모음 - 아무거나 2개 - 모음으로 이루어진 것 중에 사이의 2개를 찾아달라는 뜻이다. "
   ]
  },
  {
   "cell_type": "code",
   "execution_count": 31,
   "metadata": {},
   "outputs": [
    {
     "name": "stdout",
     "output_type": "stream",
     "text": [
      "['rc', 'fr', 'st', 'xp', 'ci']\n"
     ]
    }
   ],
   "source": [
    "result = re.findall('[aeiou](..)[aeiou]', word)\n",
    "print(result)"
   ]
  },
  {
   "cell_type": "code",
   "execution_count": 34,
   "metadata": {},
   "outputs": [
    {
     "name": "stdout",
     "output_type": "stream",
     "text": [
      "['supercalifragilisticexpialidocious']\n"
     ]
    }
   ],
   "source": [
    "result = re.findall('[^aeiou].+[^aeiou]', word)\n",
    "print(result)"
   ]
  },
  {
   "cell_type": "code",
   "execution_count": 35,
   "metadata": {},
   "outputs": [
    {
     "name": "stdout",
     "output_type": "stream",
     "text": [
      "['sup', 'rcal', 'frag', 'lis', 'tic', 'xpial', 'doc']\n"
     ]
    }
   ],
   "source": [
    "result = re.findall('[^aeiou].+?[^aeiou]', word)\n",
    "print(result)"
   ]
  },
  {
   "cell_type": "code",
   "execution_count": 10,
   "metadata": {},
   "outputs": [
    {
     "data": {
      "text/plain": [
       "[('io', 549),\n",
       " ('ea', 476),\n",
       " ('ie', 331),\n",
       " ('ou', 329),\n",
       " ('ai', 261),\n",
       " ('ia', 253),\n",
       " ('ee', 217),\n",
       " ('oo', 174),\n",
       " ('ua', 109),\n",
       " ('au', 106)]"
      ]
     },
     "execution_count": 10,
     "metadata": {},
     "output_type": "execute_result"
    }
   ],
   "source": [
    "wsj = sorted(set(nltk.corpus.treebank.words()))\n",
    "fdist = nltk.FreqDist(vs for word in wsj for vs in re.findall(r'[aeiou]{2,}', word))\n",
    "fdist.most_common(10)"
   ]
  },
  {
   "cell_type": "code",
   "execution_count": 3,
   "metadata": {},
   "outputs": [
    {
     "name": "stdout",
     "output_type": "stream",
     "text": [
      "    a   e   i   o   u \n",
      "k 418 148  94 420 173 \n",
      "p  83  31 105  34  51 \n",
      "r 187  63  84  89  79 \n",
      "s   0   0 100   2   1 \n",
      "t  47   8   0 148  37 \n",
      "v  93  27 105  48  49 \n"
     ]
    }
   ],
   "source": [
    "regexp = r'^[AEIOUaeiou]+|[AEIOUaeiou]+$|[^AEIOUaeiou]'\n",
    "def compress(word):\n",
    "    pieces = re.findall(regexp, word)\n",
    "    return ''.join(pieces)\n",
    "\n",
    "english_udhr = nltk.corpus.udhr.words('English-Latin1')\n",
    "print(nltk.tokenwrap(compress(w) for w in english_udhr[:75]))\n"
   ]
  },
  {
   "cell_type": "code",
   "execution_count": 27,
   "metadata": {},
   "outputs": [
    {
     "name": "stdout",
     "output_type": "stream",
     "text": [
      "    a   e   i   o   u \n",
      "k 418 148  94 420 173 \n",
      "p  83  31 105  34  51 \n",
      "r 187  63  84  89  79 \n",
      "s   0   0 100   2   1 \n",
      "t  47   8   0 148  37 \n",
      "v  93  27 105  48  49 \n"
     ]
    }
   ],
   "source": [
    "rotokas_words = nltk.corpus.toolbox.words('rotokas.dic')\n",
    "cvs = [cv for w in rotokas_words for cv in re.findall(r'[ptksvr][aeiou]', w)]\n",
    "cfd = nltk.ConditionalFreqDist(cvs) # CFD works pairwise only\n",
    "cfd.tabulate()"
   ]
  },
  {
   "cell_type": "code",
   "execution_count": null,
   "metadata": {},
   "outputs": [],
   "source": [
    "cv_word_pairs = [(cv, w) for w in rotokas_words for cv in re.findall(r'[ptksvr][aeiou]', w)]\n",
    "cv_index = nltk.Index(cv_word_pairs)\n",
    "cv_index['po']"
   ]
  }
 ],
 "metadata": {
  "kernelspec": {
   "display_name": "Python 3",
   "language": "python",
   "name": "python3"
  },
  "language_info": {
   "codemirror_mode": {
    "name": "ipython",
    "version": 3
   },
   "file_extension": ".py",
   "mimetype": "text/x-python",
   "name": "python",
   "nbconvert_exporter": "python",
   "pygments_lexer": "ipython3",
   "version": "3.6.5"
  }
 },
 "nbformat": 4,
 "nbformat_minor": 1
}
